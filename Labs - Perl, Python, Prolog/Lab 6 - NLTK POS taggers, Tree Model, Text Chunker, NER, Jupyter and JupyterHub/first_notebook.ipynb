{
 "cells": [
  {
   "cell_type": "markdown",
   "metadata": {},
   "source": [
    "# My First Jupyter Notebook"
   ]
  },
  {
   "cell_type": "code",
   "execution_count": 4,
   "metadata": {},
   "outputs": [
    {
     "name": "stdout",
     "output_type": "stream",
     "text": [
      "Three most common named entities are: \n",
      "U.S. : 216\n",
      "New York : 103\n",
      "Japanese : 90\n"
     ]
    }
   ],
   "source": [
    "from nltk import FreqDist\n",
    "from nltk.corpus import treebank\n",
    "from nltk import chunk\n",
    "from nltk import tag\n",
    "\n",
    "\n",
    "# load treebank data\n",
    "data = [treebank.words(i) for i in treebank.fileids()]\n",
    "data = [tag.pos_tag(i) for i in data]\n",
    "\n",
    "# chunk the data\n",
    "chunkd_data = [chunk.ne_chunk(i) for i in data]\n",
    "# select subtrees which are NE\n",
    "chunkd_tree = [i.subtrees(filter = lambda x: x.label() in [\"ORGANIZATION\", \"PERSON\", \"LOCATION\", \"DATE\", \"TIME\", \"MONEY\", \"PERCENT\", \"FACULTY\", \"GPE\"]) for i in chunkd_data]\n",
    "chunkd_trees = [[i for i in j] for j in chunkd_tree]\n",
    "arr = []\n",
    "for i in chunkd_trees:\n",
    "    for j in i:\n",
    "        arr.append(j)\n",
    "word_fd = FreqDist([' '.join(word for word, pos in tree.leaves()) for tree in arr])\n",
    "print(\"Three most common named entities are: \")\n",
    "for token, freq in word_fd.most_common(3):\n",
    "    print(\"%s : %d\"%(token, freq))\n"
   ]
  },
  {
   "cell_type": "code",
   "execution_count": null,
   "metadata": {},
   "outputs": [],
   "source": []
  }
 ],
 "metadata": {
  "kernelspec": {
   "display_name": "Python 3",
   "language": "python",
   "name": "python3"
  },
  "language_info": {
   "codemirror_mode": {
    "name": "ipython",
    "version": 3
   },
   "file_extension": ".py",
   "mimetype": "text/x-python",
   "name": "python",
   "nbconvert_exporter": "python",
   "pygments_lexer": "ipython3",
   "version": "3.7.6"
  }
 },
 "nbformat": 4,
 "nbformat_minor": 2
}
